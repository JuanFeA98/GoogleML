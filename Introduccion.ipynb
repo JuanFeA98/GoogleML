{
 "cells": [
  {
   "cell_type": "markdown",
   "id": "c108dc3e-5896-4cfc-80b0-dce181b580a5",
   "metadata": {},
   "source": [
    "<h1 style='font-weight:bolder; text-align:center'>1. Regresión Lineal</h1>"
   ]
  },
  {
   "cell_type": "markdown",
   "id": "db9b4363-0632-4fca-9dd4-0743af8ffaf7",
   "metadata": {},
   "source": [
    "## **Librerías**"
   ]
  },
  {
   "cell_type": "code",
   "execution_count": 1,
   "id": "975ed42f-9e7c-4f4e-89c0-9c5252cfb4e8",
   "metadata": {},
   "outputs": [],
   "source": [
    "import pandas as pd\n",
    "import numpy as np\n",
    "import matplotlib.pyplot as plt"
   ]
  },
  {
   "cell_type": "code",
   "execution_count": 2,
   "id": "55ed0a2d-21ae-437a-bc9b-a58977a2ee64",
   "metadata": {},
   "outputs": [],
   "source": [
    "pd.options.display.max_columns = False"
   ]
  },
  {
   "cell_type": "code",
   "execution_count": 3,
   "id": "15f10387-dd17-45ca-9c1c-47701ba84d34",
   "metadata": {},
   "outputs": [],
   "source": [
    "from datetime import datetime, timedelta\n",
    "import winsound"
   ]
  },
  {
   "cell_type": "code",
   "execution_count": 4,
   "id": "696bf3b3-53b8-47b7-81c6-8d32e3e15275",
   "metadata": {},
   "outputs": [],
   "source": [
    "import tensorflow as tf"
   ]
  },
  {
   "cell_type": "markdown",
   "id": "514b9d8e-e085-400b-a91c-7a6daf108a8c",
   "metadata": {},
   "source": [
    "## **Funciones**"
   ]
  },
  {
   "cell_type": "code",
   "execution_count": 5,
   "id": "628ab969-6591-4ce9-b5e3-bf86ae60469f",
   "metadata": {},
   "outputs": [],
   "source": [
    "def build_model(learning_rate):\n",
    "    # Inicializamos un modelo básico     \n",
    "    model = tf.keras.models.Sequential()\n",
    "    \n",
    "    # Agregamos una capa para nuestro modelo de regresión\n",
    "    model.add(\n",
    "            tf.keras.layers.Dense(\n",
    "            units=1,\n",
    "            input_shape=(1,)\n",
    "        )\n",
    "    )\n",
    "    \n",
    "    # Configuramos el modelo para minimisar el error cuadratico medio     \n",
    "    model.compile(\n",
    "        optimizer=tf.keras.optimizers.RMSprop(\n",
    "            learning_rate=learning_rate,\n",
    "        ),\n",
    "        loss='mean_squared_error',\n",
    "        metrics=[tf.keras.metrics.RootMeanSquaredError()]\n",
    "    )\n",
    "\n",
    "    return model"
   ]
  },
  {
   "cell_type": "code",
   "execution_count": 6,
   "id": "92e36ed9-a5af-4ab7-8def-e5443f342821",
   "metadata": {},
   "outputs": [],
   "source": [
    "def train_model(model, feature, label, epochs, batch_size):\n",
    "    \n",
    "    history = model.fit(\n",
    "        x = feature,\n",
    "        y = label,\n",
    "        batch_size = batch_size,\n",
    "        epochs = epochs\n",
    "    )\n",
    "    \n",
    "    trained_weight = model.get_weights()[0]\n",
    "    trained_bias = model.get_weights()[1]\n",
    "    \n",
    "    epochs = history.epoch\n",
    "    \n",
    "    hist = pd.DataFrame(history.history)\n",
    "    \n",
    "    rmse = hist['root_mean_squared_error']\n",
    "    \n",
    "    return trained_weight, trained_bias, epochs, rmse"
   ]
  },
  {
   "cell_type": "code",
   "execution_count": 7,
   "id": "ea2ecc47-84bf-4a58-87bb-0d757685afca",
   "metadata": {},
   "outputs": [],
   "source": [
    "def plot_the_model(trained_weight, trained_bias, feature, label):\n",
    "    \n",
    "    plt.xlabel('feature')\n",
    "    plt.ylabel('label')\n",
    "    \n",
    "    plt.scatter(feature, label)\n",
    "    \n",
    "    # x0 = 0\n",
    "    # y0 = trained_bias\n",
    "    # x1 = feature[-1]\n",
    "    # y1 = trained_bias + (trained_weight * x1)\n",
    "    # plt.plot([x0, x1], [y0, y1], c='r')\n",
    "    \n",
    "    plt.show()"
   ]
  },
  {
   "cell_type": "code",
   "execution_count": 8,
   "id": "14fc6671-84ec-4f62-be11-7ebb6ba5671b",
   "metadata": {},
   "outputs": [],
   "source": [
    "def plot_the_loss_curve(epochs, rmse):\n",
    "    \n",
    "    plt.figure()\n",
    "    plt.xlabel('Epoch')\n",
    "    plt.ylabel('Root Mean Squared Error')\n",
    "    \n",
    "    plt.plot(epochs, rmse, label='Loss')\n",
    "    plt.legend()\n",
    "    plt.ylim([rmse.min()*0.97, rmse.max()])\n",
    "    plt.show()"
   ]
  },
  {
   "cell_type": "markdown",
   "id": "cfc83b60-77a7-4667-9535-2d275857a68e",
   "metadata": {},
   "source": [
    "## **Datos**"
   ]
  },
  {
   "cell_type": "code",
   "execution_count": 9,
   "id": "2bd038ba-39c4-4cc7-b7e5-8f0f032be92f",
   "metadata": {},
   "outputs": [],
   "source": [
    "my_feature = ([1.0, 2.0,  3.0,  4.0,  5.0,  6.0,  7.0,  8.0,  9.0, 10.0, 11.0, 12.0])\n",
    "my_label   = ([5.0, 8.8,  9.6, 14.2, 18.8, 19.5, 21.4, 26.8, 28.9, 32.0, 33.8, 38.2])"
   ]
  },
  {
   "cell_type": "markdown",
   "id": "5e2b0cd8-dc6e-4105-949d-7265cd7f92f7",
   "metadata": {},
   "source": [
    "## **Especidicando los hiperparametros**"
   ]
  },
  {
   "cell_type": "code",
   "execution_count": 10,
   "id": "d6bc41bc-e26c-4e79-a48d-371b60141c03",
   "metadata": {},
   "outputs": [],
   "source": [
    "learning_rate = 0.01\n",
    "epochs = 10\n",
    "my_batch_size = 12"
   ]
  },
  {
   "cell_type": "code",
   "execution_count": 11,
   "id": "ff20dec3-346c-4511-8fb9-274cae12e6aa",
   "metadata": {},
   "outputs": [],
   "source": [
    "my_model = build_model(learning_rate)"
   ]
  },
  {
   "cell_type": "code",
   "execution_count": 12,
   "id": "6758826c-3078-4853-97bf-e6e1e174a090",
   "metadata": {},
   "outputs": [
    {
     "name": "stdout",
     "output_type": "stream",
     "text": [
      "Epoch 1/10\n",
      "1/1 [==============================] - 1s 790ms/step - loss: 620.9019 - root_mean_squared_error: 24.9179\n",
      "Epoch 2/10\n",
      "1/1 [==============================] - 0s 9ms/step - loss: 607.9694 - root_mean_squared_error: 24.6570\n",
      "Epoch 3/10\n",
      "1/1 [==============================] - 0s 5ms/step - loss: 598.7188 - root_mean_squared_error: 24.4687\n",
      "Epoch 4/10\n",
      "1/1 [==============================] - 0s 5ms/step - loss: 591.0510 - root_mean_squared_error: 24.3115\n",
      "Epoch 5/10\n",
      "1/1 [==============================] - 0s 12ms/step - loss: 584.3010 - root_mean_squared_error: 24.1723\n",
      "Epoch 6/10\n",
      "1/1 [==============================] - 0s 8ms/step - loss: 578.1609 - root_mean_squared_error: 24.0450\n",
      "Epoch 7/10\n",
      "1/1 [==============================] - 0s 12ms/step - loss: 572.4594 - root_mean_squared_error: 23.9261\n",
      "Epoch 8/10\n",
      "1/1 [==============================] - 0s 12ms/step - loss: 567.0898 - root_mean_squared_error: 23.8136\n",
      "Epoch 9/10\n",
      "1/1 [==============================] - 0s 6ms/step - loss: 561.9808 - root_mean_squared_error: 23.7061\n",
      "Epoch 10/10\n",
      "1/1 [==============================] - 0s 9ms/step - loss: 557.0822 - root_mean_squared_error: 23.6026\n"
     ]
    }
   ],
   "source": [
    "trained_weight, trained_bias, epochs, rmse = train_model(\n",
    "    my_model, my_feature, my_label, epochs, my_batch_size\n",
    ")"
   ]
  },
  {
   "cell_type": "code",
   "execution_count": null,
   "id": "9eab6121-2d32-4078-a778-042ad63d79be",
   "metadata": {},
   "outputs": [],
   "source": [
    "plot_the_model(trained_weight, trained_bias, my_feature, my_label)"
   ]
  },
  {
   "cell_type": "code",
   "execution_count": null,
   "id": "bc4739db-403d-43ea-9952-1e2149a9a442",
   "metadata": {},
   "outputs": [],
   "source": []
  },
  {
   "cell_type": "code",
   "execution_count": null,
   "id": "f3384dec-4d56-4123-a6bd-80d260960f87",
   "metadata": {},
   "outputs": [],
   "source": []
  }
 ],
 "metadata": {
  "kernelspec": {
   "display_name": "Python 3 (ipykernel)",
   "language": "python",
   "name": "python3"
  },
  "language_info": {
   "codemirror_mode": {
    "name": "ipython",
    "version": 3
   },
   "file_extension": ".py",
   "mimetype": "text/x-python",
   "name": "python",
   "nbconvert_exporter": "python",
   "pygments_lexer": "ipython3",
   "version": "3.10.6"
  }
 },
 "nbformat": 4,
 "nbformat_minor": 5
}
